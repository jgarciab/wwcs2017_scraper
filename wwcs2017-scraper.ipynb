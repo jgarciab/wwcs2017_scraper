{
 "cells": [
  {
   "cell_type": "markdown",
   "metadata": {},
   "source": [
    "# How to mafia 101\n",
    "    Data scraping with Python\n",
    "    By: Javier\n",
    "    \n",
    "### Requirements:\n",
    "- Use python3 to avoid text encoding problems.\n",
    "- Some extra libraries: requests (request websites), selenium (to control firefox), beautifulsoup (parse html), json (parse json), fake_headers...\n",
    "- Firefox and geckodriver (https://github.com/mozilla/geckodriver/releases) to control with selenium\n",
    "- Jupyter notebook (autocomplete, interactive, great). Anacondas provides everything.\n",
    "\n",
    "### Every data service has an API\n",
    "- Some sites allow you to use it directly (Twitter) -> Easy\n",
    "- Some sites hide it (most websites) -> Easyish\n",
    "- Some sites block it (most apps and services whose income come from data) -> No idea"
   ]
  },
  {
   "cell_type": "code",
   "execution_count": 3,
   "metadata": {
    "collapsed": false
   },
   "outputs": [
    {
     "data": {
      "text/html": [
       "<img src=\"mafia_logo.jpeg\" width=\"200\"/>"
      ],
      "text/plain": [
       "<IPython.core.display.Image object>"
      ]
     },
     "execution_count": 3,
     "metadata": {},
     "output_type": "execute_result"
    }
   ],
   "source": [
    "Image(url=\"mafia_logo.jpeg\",width=200)"
   ]
  },
  {
   "cell_type": "code",
   "execution_count": null,
   "metadata": {
    "collapsed": true
   },
   "outputs": [],
   "source": [
    "!pip install tweepy\n",
    "!pip install fake_useragent #this will allow us to use random headers, many websites track it\n",
    "!pip install selenium --upgrade"
   ]
  },
  {
   "cell_type": "code",
   "execution_count": 1,
   "metadata": {
    "collapsed": true
   },
   "outputs": [],
   "source": [
    "#Imports\n",
    "import pickle\n",
    "import time\n",
    "from IPython.core.display import display, Image"
   ]
  },
  {
   "cell_type": "markdown",
   "metadata": {},
   "source": [
    "# 1. Types of data scraping\n",
    "## 1.1 Using the API that the site provides (e.g. Twitter). \n",
    "- Usually you send a request and the site gives you back json (a dictionary with the data).\n",
    "- Chances are that somebody else have coded a python package for you.\n",
    "- They have limits.\n",
    "\n",
    "Example: Twitter\n",
    "- Get a key: https://apps.twitter.com/\n",
    "- Documentation: https://dev.twitter.com/rest/public\n",
    "- Find a library: https://dev.twitter.com/resources/twitter-libraries\n",
    "(let's use https://github.com/tweepy/tweepy)\n",
    "\n",
    "\n",
    "Limitations\n",
    "- 100 mess/query\n",
    "- 180 messages every 15 min\n",
    "- Only one week of data\n",
    "- Not mafia (unless many accounts, then very mafia)"
   ]
  },
  {
   "cell_type": "code",
   "execution_count": 117,
   "metadata": {
    "collapsed": false,
    "scrolled": true
   },
   "outputs": [
    {
     "name": "stdout",
     "output_type": "stream",
     "text": [
      "__________\n",
      "wwcs_2017 None 55\n",
      "At WWCS2017 in @is_petnica we will also discuss \"Scientific Careers in Academia and Beyond\": https://t.co/d8YNNilt9A ask your qstns #wwcs17\n",
      "__________\n",
      "wwcs_2017 None 55\n",
      "Full detailed program of @wwcs_2017 can be found here: https://t.co/EZjejUrM80 https://t.co/OuzBL5TiaZ\n",
      "__________\n",
      "wwcs_2017 None 55\n",
      "RT @YRN_CS: Bridge Grants 2017 to foster interdisciplinary research efforts: waiting for great proposals! Deadline is March 5th! https://t.…\n",
      "__________\n",
      "wwcs_2017 None 55\n",
      "Our program begins this sunday with the Belgrade city tour! Looking forward to meeting you all!!!\n",
      "Number of results: 4 (4 new)\n",
      "Number of results: 4 (0 new)\n"
     ]
    }
   ],
   "source": [
    "def twitter(d_keys,query):\n",
    "    import tweepy\n",
    "    import time\n",
    "\n",
    "    #Authtentify\n",
    "    auth = tweepy.OAuthHandler(d_keys[\"CONSUMER_KEY\"], d_keys[\"CONSUMER_SECRET\"])\n",
    "    auth.set_access_token(d_keys[\"ACCESS_KEY\"], d_keys[\"ACCESS_SECRET\"])\n",
    "    api = tweepy.API(auth)\n",
    "\n",
    "    #We want 1000 tweets\n",
    "    num_results = 1000\n",
    "    result_count = 0\n",
    "    last_id = None\n",
    "    \n",
    "    #Max 180 tweets 15 min\n",
    "    cumulative = 0\n",
    "\n",
    "    #While we don't have them\n",
    "    while (result_count <  num_results):\n",
    "        previous_tweets = result_count\n",
    "        #Ask for more tweets, starting in the last_id (identifier of the tweet)\n",
    "        results = api.search(q = query,\n",
    "                              count = 90, max_id = last_id,result_type=\"recent\")\n",
    "                                # geocode = \"{},{},{}km\".format(latitude, longitude, max_range) #for geocode\n",
    "\n",
    "        #for each tweet extract some info (json structure)\n",
    "        for result in results:\n",
    "            result_count += 1\n",
    "            user = result.user.screen_name\n",
    "            text = result.text\n",
    "            followers_count = result.user.followers_count\n",
    "            time_zone = result.user.time_zone\n",
    "            print(\"_\"*10)\n",
    "            print(user,time_zone,followers_count)\n",
    "            print(text)\n",
    "\n",
    "        #keep the last_id to know where to continue\n",
    "        last_id = int(result.id)-1\n",
    "        new_tweets = result_count - previous_tweets\n",
    "\n",
    "        print (\"Number of results: {} ({} new)\".format(result_count,new_tweets))\n",
    "\n",
    "        #If we don't get new tweets exit\n",
    "        if new_tweets == 0: \n",
    "            break\n",
    "        \n",
    "        time.sleep(1)\n",
    "        \n",
    "        if ((result_count + 90) // 150) > cumulative:\n",
    "            cumulative += 1\n",
    "            time.sleep(15*60)\n",
    "\n",
    "\n",
    "d_keys = pickle.load(open(\".key\",\"rb\")) #don't share your keys ;)\n",
    "twitter(d_keys,\"from:wwcs_2017\")"
   ]
  },
  {
   "cell_type": "markdown",
   "metadata": {},
   "source": [
    "## 1.2 Using the hidden API\n",
    "- You request the website and get **json/html** back.\n",
    "- You need to find patterns in their API (may be hard sometimes).\n",
    "- No limits usually. \n",
    "    - Try to behave, don't get confused with a DDoS attack.\n",
    "    - Check the terms of service of the website.\n",
    "    - I got UvA blocked from a site last year.\n",
    "- It can be automatized to run periodically: https://scrapy.org/\n",
    "- Very mafia\n",
    "\n",
    "What will we use:\n",
    "- The inspector and network tab in the broser\n",
    "- This web to convert curl queries to python request queries: https://curl.trillworks.com/\n"
   ]
  },
  {
   "cell_type": "markdown",
   "metadata": {},
   "source": [
    "#### 1.2.1 UVM example\n",
    "- Info about students: https://www.uvm.edu/directory/"
   ]
  },
  {
   "cell_type": "code",
   "execution_count": 120,
   "metadata": {
    "collapsed": false,
    "scrolled": true
   },
   "outputs": [],
   "source": [
    "def get_student_info(netIDs):\n",
    "    \"\"\"\n",
    "    Calculate how many students of first,second,third year are in our database\n",
    "    \"\"\"\n",
    "    \n",
    "    import requests\n",
    "    import json\n",
    "    from collections import Counter\n",
    "    \n",
    "    ids = []\n",
    "    n = []\n",
    "    for ID in netIDs:\n",
    "        #Request\n",
    "        r = requests.get('https://www.uvm.edu/directory/api/query_results.php?name={0}&department=&phone=&soundslike=0&request_num=1'.format(ID.replace(\".\",\"+\") ))\n",
    "        \n",
    "        #Get the json\n",
    "        try: \n",
    "            t = json.loads(r.text)\n",
    "            n.append(t[\"data\"][0][\"ou\"][\"0\"])\n",
    "            ids.append(ID)\n",
    "        except: \n",
    "            print(\"Error with \",ID)\n",
    "    \n",
    "    print(ids)\n",
    "    print(n)\n",
    "    print(Counter(n))\n",
    "\n"
   ]
  },
  {
   "cell_type": "code",
   "execution_count": null,
   "metadata": {
    "collapsed": true
   },
   "outputs": [],
   "source": [
    "netIDs = ['hhoffma2', 'nswright', 'emily.sippin', 'emily.sippin', 'cjmarsha', 'nicholas.grubinger', 'kabdi', 'wbourne', 'hdeng', 'caroline.hooper', 'mghafoor', 'cecappel', 'oolafarg', 'cyang3', 'wgarratt', 'imchale', 'mgalla13', 'tdwise', 'jgterino', 'escott3', 'ailer', 'sarah.mantz', 'mleskova', 'bfilker1', 'jpconsta', 'amcgrory', 'verhoeff.parker', 'aharte', 'emcwrigh', 'dgrundha', 'amanda.silva', 'ajstone', 'dgrundha', 'evolaj', 'acoonwil', 'lberelso', 'solmaz.karimi', 'jmorri18', 'bcpincus', 'faliaj', 'iroach', 'taylor.bird', 'rnesnevi', 'lmyers4', 'mgallag9', 'agryan', 'meschnei', 'rfcalabr', 'tlo1', 'asulli19', 'Bcrocke1', 'wocarrol', 'kkaiters', 'wsahene', 'bsalimi', 'hhoffma2', 'ndudkina', 'pgreenfi', 'grace.jia', 'cswinn', 'tmheffer', 'stosto', 'stosto', 'amcgrory', 'jfiggie', 'uacharya', 'amanda.silva', 'ebambury', 'swshelto', 'mprogers', 'ebambury', 'kgonski', 'ebambury', 'agryan', 'ashah7', 'jbenelli', 'nwoodcoc', 'ejsulliv', 'jldickin', 'aculupa', 'jbfrankl', 'mprogers', 'rjplatt', 'jbfrankl', 'mghafoor', 'swbreen', 'swbreen', 'gprodans', 'amguy', 'amguy', 'vavalone', 'gcongius', 'jwaksman', 'rlangdon', 'c.dong', 'c.dong', 'sphuong', 'rfranken', 'smatika']\n",
    "get_student_info(netIDs)"
   ]
  },
  {
   "cell_type": "markdown",
   "metadata": {},
   "source": [
    "##### 1.2.2 UVM example 2\n",
    "- Donwload all the ISBNs of the books that will be used\n",
    "- http://uvmbookstore.uvm.edu/textbook_express.asp?mode=2&step=2\n"
   ]
  },
  {
   "cell_type": "code",
   "execution_count": 123,
   "metadata": {
    "collapsed": true
   },
   "outputs": [],
   "source": [
    "def extractBooks():\n",
    "    \"\"\"\n",
    "    Get all the books used at UVM in one year\n",
    "    \"\"\"\n",
    "    import requests\n",
    "    from bs4 import BeautifulSoup\n",
    "\n",
    "    cookies = {\n",
    "        's_vnum': '1440621181017%26vn%3D1',\n",
    "        's_fid': '0EF2E6D54E22CAAA-084C34FDA4EC5F3D',\n",
    "        '__utma': '54619247.234461063.1437860582.1438191847.1438191847.1',\n",
    "        '__utmz': '54619247.1438191847.1.1.utmcsr=google|utmccn=(organic)|utmcmd=organic|utmctr=(not%20provided)',\n",
    "        'ASPSESSIONIDSCQDDRCQ': 'FBDNKLMABLDHPHCHGANLMKCG',\n",
    "        'ASPSESSIONIDQCSBCQDT': 'OEDPCJMAMCFMELHHNLCMKLHG',\n",
    "        'referring_url': 'https%3A//www.google.es/',\n",
    "        '_ga': 'GA1.2.234461063.1437860582',\n",
    "        '_gat': '1',\n",
    "        '_gat_unitTracker': '1',\n",
    "        'mscssid': '280FE7B7BA944614A67CE36A236CBAE3',\n",
    "        'cookies': 'true',\n",
    "    }\n",
    "\n",
    "    headers = {\n",
    "        'Pragma': 'no-cache',\n",
    "        'Origin': 'http://uvmbookstore.uvm.edu',\n",
    "        'Accept-Encoding': 'gzip, deflate',\n",
    "        'Accept-Language': 'es,en-US;q=0.8,en;q=0.6',\n",
    "        'User-Agent': 'Mozilla/5.0 (X11; Linux x86_64) AppleWebKit/537.36 (KHTML, like Gecko) Chrome/44.0.2403.89 Safari/537.36',\n",
    "        'HTTPS': '1',\n",
    "        'Content-Type': 'application/x-www-form-urlencoded',\n",
    "        'Accept': 'text/html,application/xhtml+xml,application/xml;q=0.9,image/webp,*/*;q=0.8',\n",
    "        'Cache-Control': 'no-cache',\n",
    "        'Referer': 'http://uvmbookstore.uvm.edu/default.asp?',\n",
    "        'Connection': 'keep-alive',\n",
    "    }\n",
    "\n",
    "    #All the books start with \"70 and then four numbers\". Let's try all the combinations\n",
    "    books = [ \"7\"+\"0\"*(4-len(str(_)))+str(_) for _ in range(0,1+9999)]\n",
    "\n",
    "    while books:\n",
    "        #keep the top 100\n",
    "        booksT = books[:100]\n",
    "        books = books[100:]\n",
    "        \n",
    "        #join the ids of the books\n",
    "        booksT = \"%2C\".join(booksT)\n",
    "    \n",
    "        #create the data and post it\n",
    "        data = 'tbe-block-mode=0&selTerm=0%7C0&generate-book-list=Get+Your+Books&sectionIds='+booksT\n",
    "        r = requests.post('http://uvmbookstore.uvm.edu/textbook_express.asp?mode=2&step=2', headers=headers, cookies=cookies, data=data)\n",
    "        #get the html and parse the html\n",
    "        html = r.text\n",
    "        soup = BeautifulSoup(html)\n",
    "\n",
    "        #find all the isbns\n",
    "        ids = soup.find_all('span', {'class' : 'isbn'})\n",
    "\n",
    "        #Print them\n",
    "        for _ in ids:\n",
    "            print(_.text)\n",
    "        "
   ]
  },
  {
   "cell_type": "code",
   "execution_count": 124,
   "metadata": {
    "collapsed": false,
    "scrolled": true
   },
   "outputs": [
    {
     "name": "stdout",
     "output_type": "stream",
     "text": [
      "True\n"
     ]
    },
    {
     "name": "stderr",
     "output_type": "stream",
     "text": [
      "/home/javiergb/Programs/anaconda3/lib/python3.5/site-packages/bs4/__init__.py:181: UserWarning: No parser was explicitly specified, so I'm using the best available HTML parser for this system (\"lxml\"). This usually isn't a problem, but if you run this code on another system, or in a different virtual environment, it may use a different parser and behave differently.\n",
      "\n",
      "The code that caused this warning is on line 184 of the file /home/javiergb/Programs/anaconda3/lib/python3.5/runpy.py. To get rid of this warning, change code that looks like this:\n",
      "\n",
      " BeautifulSoup([your markup])\n",
      "\n",
      "to this:\n",
      "\n",
      " BeautifulSoup([your markup], \"lxml\")\n",
      "\n",
      "  markup_type=markup_type))\n"
     ]
    },
    {
     "name": "stdout",
     "output_type": "stream",
     "text": [
      "013035256X\n",
      "1783600225\n",
      "1626370311\n",
      "073605250X\n",
      "1400053099\n",
      "0547406274\n",
      "0077595114\n",
      "1284026337\n",
      "0133864960\n",
      "0393912787\n",
      "1581211279\n",
      "1433805618\n",
      "0470454989\n",
      "1579229840\n",
      "1579225845\n",
      "0803626827\n",
      "1455741655\n",
      "0226816389\n",
      "1422485560\n",
      "0073525308\n",
      "113359414X\n",
      "0140443622\n",
      "0199537380\n",
      "0872207234\n",
      "0199537569\n",
      "0199730571\n",
      "1590706994\n",
      "0078112761\n",
      "1581212151\n",
      "1563683008\n",
      "158121135X\n",
      "158121054X\n",
      "0199777543\n",
      "0770435688\n",
      "0634038168\n",
      "0312552017\n",
      "1557783926\n",
      "0199931925\n",
      "1889293164\n",
      "0205998259\n"
     ]
    },
    {
     "ename": "KeyboardInterrupt",
     "evalue": "",
     "output_type": "error",
     "traceback": [
      "\u001b[0;31m---------------------------------------------------------------------------\u001b[0m",
      "\u001b[0;31mKeyboardInterrupt\u001b[0m                         Traceback (most recent call last)",
      "\u001b[0;32m<ipython-input-124-c63976820be5>\u001b[0m in \u001b[0;36m<module>\u001b[0;34m()\u001b[0m\n\u001b[0;32m----> 1\u001b[0;31m \u001b[0mextractBooks\u001b[0m\u001b[0;34m(\u001b[0m\u001b[0;34m)\u001b[0m\u001b[0;34m\u001b[0m\u001b[0m\n\u001b[0m",
      "\u001b[0;32m<ipython-input-123-d1f5929ff564>\u001b[0m in \u001b[0;36mextractBooks\u001b[0;34m()\u001b[0m\n\u001b[1;32m     48\u001b[0m         \u001b[0;31m#create the data and post it\u001b[0m\u001b[0;34m\u001b[0m\u001b[0;34m\u001b[0m\u001b[0m\n\u001b[1;32m     49\u001b[0m         \u001b[0mdata\u001b[0m \u001b[0;34m=\u001b[0m \u001b[0;34m'tbe-block-mode=0&selTerm=0%7C0&generate-book-list=Get+Your+Books&sectionIds='\u001b[0m\u001b[0;34m+\u001b[0m\u001b[0mbooksT\u001b[0m\u001b[0;34m\u001b[0m\u001b[0m\n\u001b[0;32m---> 50\u001b[0;31m         \u001b[0mr\u001b[0m \u001b[0;34m=\u001b[0m \u001b[0mrequests\u001b[0m\u001b[0;34m.\u001b[0m\u001b[0mpost\u001b[0m\u001b[0;34m(\u001b[0m\u001b[0;34m'http://uvmbookstore.uvm.edu/textbook_express.asp?mode=2&step=2'\u001b[0m\u001b[0;34m,\u001b[0m \u001b[0mheaders\u001b[0m\u001b[0;34m=\u001b[0m\u001b[0mheaders\u001b[0m\u001b[0;34m,\u001b[0m \u001b[0mcookies\u001b[0m\u001b[0;34m=\u001b[0m\u001b[0mcookies\u001b[0m\u001b[0;34m,\u001b[0m \u001b[0mdata\u001b[0m\u001b[0;34m=\u001b[0m\u001b[0mdata\u001b[0m\u001b[0;34m)\u001b[0m\u001b[0;34m\u001b[0m\u001b[0m\n\u001b[0m\u001b[1;32m     51\u001b[0m         \u001b[0mprint\u001b[0m\u001b[0;34m(\u001b[0m\u001b[0mr\u001b[0m\u001b[0;34m.\u001b[0m\u001b[0mok\u001b[0m\u001b[0;34m)\u001b[0m\u001b[0;34m\u001b[0m\u001b[0m\n\u001b[1;32m     52\u001b[0m         \u001b[0;31m#get the html and parse the html\u001b[0m\u001b[0;34m\u001b[0m\u001b[0;34m\u001b[0m\u001b[0m\n",
      "\u001b[0;32m/home/javiergb/Programs/anaconda3/lib/python3.5/site-packages/requests/api.py\u001b[0m in \u001b[0;36mpost\u001b[0;34m(url, data, json, **kwargs)\u001b[0m\n\u001b[1;32m    108\u001b[0m     \"\"\"\n\u001b[1;32m    109\u001b[0m \u001b[0;34m\u001b[0m\u001b[0m\n\u001b[0;32m--> 110\u001b[0;31m     \u001b[0;32mreturn\u001b[0m \u001b[0mrequest\u001b[0m\u001b[0;34m(\u001b[0m\u001b[0;34m'post'\u001b[0m\u001b[0;34m,\u001b[0m \u001b[0murl\u001b[0m\u001b[0;34m,\u001b[0m \u001b[0mdata\u001b[0m\u001b[0;34m=\u001b[0m\u001b[0mdata\u001b[0m\u001b[0;34m,\u001b[0m \u001b[0mjson\u001b[0m\u001b[0;34m=\u001b[0m\u001b[0mjson\u001b[0m\u001b[0;34m,\u001b[0m \u001b[0;34m**\u001b[0m\u001b[0mkwargs\u001b[0m\u001b[0;34m)\u001b[0m\u001b[0;34m\u001b[0m\u001b[0m\n\u001b[0m\u001b[1;32m    111\u001b[0m \u001b[0;34m\u001b[0m\u001b[0m\n\u001b[1;32m    112\u001b[0m \u001b[0;34m\u001b[0m\u001b[0m\n",
      "\u001b[0;32m/home/javiergb/Programs/anaconda3/lib/python3.5/site-packages/requests/api.py\u001b[0m in \u001b[0;36mrequest\u001b[0;34m(method, url, **kwargs)\u001b[0m\n\u001b[1;32m     54\u001b[0m     \u001b[0;31m# cases, and look like a memory leak in others.\u001b[0m\u001b[0;34m\u001b[0m\u001b[0;34m\u001b[0m\u001b[0m\n\u001b[1;32m     55\u001b[0m     \u001b[0;32mwith\u001b[0m \u001b[0msessions\u001b[0m\u001b[0;34m.\u001b[0m\u001b[0mSession\u001b[0m\u001b[0;34m(\u001b[0m\u001b[0;34m)\u001b[0m \u001b[0;32mas\u001b[0m \u001b[0msession\u001b[0m\u001b[0;34m:\u001b[0m\u001b[0;34m\u001b[0m\u001b[0m\n\u001b[0;32m---> 56\u001b[0;31m         \u001b[0;32mreturn\u001b[0m \u001b[0msession\u001b[0m\u001b[0;34m.\u001b[0m\u001b[0mrequest\u001b[0m\u001b[0;34m(\u001b[0m\u001b[0mmethod\u001b[0m\u001b[0;34m=\u001b[0m\u001b[0mmethod\u001b[0m\u001b[0;34m,\u001b[0m \u001b[0murl\u001b[0m\u001b[0;34m=\u001b[0m\u001b[0murl\u001b[0m\u001b[0;34m,\u001b[0m \u001b[0;34m**\u001b[0m\u001b[0mkwargs\u001b[0m\u001b[0;34m)\u001b[0m\u001b[0;34m\u001b[0m\u001b[0m\n\u001b[0m\u001b[1;32m     57\u001b[0m \u001b[0;34m\u001b[0m\u001b[0m\n\u001b[1;32m     58\u001b[0m \u001b[0;34m\u001b[0m\u001b[0m\n",
      "\u001b[0;32m/home/javiergb/Programs/anaconda3/lib/python3.5/site-packages/requests/sessions.py\u001b[0m in \u001b[0;36mrequest\u001b[0;34m(self, method, url, params, data, headers, cookies, files, auth, timeout, allow_redirects, proxies, hooks, stream, verify, cert, json)\u001b[0m\n\u001b[1;32m    486\u001b[0m         }\n\u001b[1;32m    487\u001b[0m         \u001b[0msend_kwargs\u001b[0m\u001b[0;34m.\u001b[0m\u001b[0mupdate\u001b[0m\u001b[0;34m(\u001b[0m\u001b[0msettings\u001b[0m\u001b[0;34m)\u001b[0m\u001b[0;34m\u001b[0m\u001b[0m\n\u001b[0;32m--> 488\u001b[0;31m         \u001b[0mresp\u001b[0m \u001b[0;34m=\u001b[0m \u001b[0mself\u001b[0m\u001b[0;34m.\u001b[0m\u001b[0msend\u001b[0m\u001b[0;34m(\u001b[0m\u001b[0mprep\u001b[0m\u001b[0;34m,\u001b[0m \u001b[0;34m**\u001b[0m\u001b[0msend_kwargs\u001b[0m\u001b[0;34m)\u001b[0m\u001b[0;34m\u001b[0m\u001b[0m\n\u001b[0m\u001b[1;32m    489\u001b[0m \u001b[0;34m\u001b[0m\u001b[0m\n\u001b[1;32m    490\u001b[0m         \u001b[0;32mreturn\u001b[0m \u001b[0mresp\u001b[0m\u001b[0;34m\u001b[0m\u001b[0m\n",
      "\u001b[0;32m/home/javiergb/Programs/anaconda3/lib/python3.5/site-packages/requests/sessions.py\u001b[0m in \u001b[0;36msend\u001b[0;34m(self, request, **kwargs)\u001b[0m\n\u001b[1;32m    639\u001b[0m \u001b[0;34m\u001b[0m\u001b[0m\n\u001b[1;32m    640\u001b[0m         \u001b[0;32mif\u001b[0m \u001b[0;32mnot\u001b[0m \u001b[0mstream\u001b[0m\u001b[0;34m:\u001b[0m\u001b[0;34m\u001b[0m\u001b[0m\n\u001b[0;32m--> 641\u001b[0;31m             \u001b[0mr\u001b[0m\u001b[0;34m.\u001b[0m\u001b[0mcontent\u001b[0m\u001b[0;34m\u001b[0m\u001b[0m\n\u001b[0m\u001b[1;32m    642\u001b[0m \u001b[0;34m\u001b[0m\u001b[0m\n\u001b[1;32m    643\u001b[0m         \u001b[0;32mreturn\u001b[0m \u001b[0mr\u001b[0m\u001b[0;34m\u001b[0m\u001b[0m\n",
      "\u001b[0;32m/home/javiergb/Programs/anaconda3/lib/python3.5/site-packages/requests/models.py\u001b[0m in \u001b[0;36mcontent\u001b[0;34m(self)\u001b[0m\n\u001b[1;32m    779\u001b[0m                 \u001b[0mself\u001b[0m\u001b[0;34m.\u001b[0m\u001b[0m_content\u001b[0m \u001b[0;34m=\u001b[0m \u001b[0;32mNone\u001b[0m\u001b[0;34m\u001b[0m\u001b[0m\n\u001b[1;32m    780\u001b[0m             \u001b[0;32melse\u001b[0m\u001b[0;34m:\u001b[0m\u001b[0;34m\u001b[0m\u001b[0m\n\u001b[0;32m--> 781\u001b[0;31m                 \u001b[0mself\u001b[0m\u001b[0;34m.\u001b[0m\u001b[0m_content\u001b[0m \u001b[0;34m=\u001b[0m \u001b[0mbytes\u001b[0m\u001b[0;34m(\u001b[0m\u001b[0;34m)\u001b[0m\u001b[0;34m.\u001b[0m\u001b[0mjoin\u001b[0m\u001b[0;34m(\u001b[0m\u001b[0mself\u001b[0m\u001b[0;34m.\u001b[0m\u001b[0miter_content\u001b[0m\u001b[0;34m(\u001b[0m\u001b[0mCONTENT_CHUNK_SIZE\u001b[0m\u001b[0;34m)\u001b[0m\u001b[0;34m)\u001b[0m \u001b[0;32mor\u001b[0m \u001b[0mbytes\u001b[0m\u001b[0;34m(\u001b[0m\u001b[0;34m)\u001b[0m\u001b[0;34m\u001b[0m\u001b[0m\n\u001b[0m\u001b[1;32m    782\u001b[0m \u001b[0;34m\u001b[0m\u001b[0m\n\u001b[1;32m    783\u001b[0m         \u001b[0mself\u001b[0m\u001b[0;34m.\u001b[0m\u001b[0m_content_consumed\u001b[0m \u001b[0;34m=\u001b[0m \u001b[0;32mTrue\u001b[0m\u001b[0;34m\u001b[0m\u001b[0m\n",
      "\u001b[0;32m/home/javiergb/Programs/anaconda3/lib/python3.5/site-packages/requests/models.py\u001b[0m in \u001b[0;36mgenerate\u001b[0;34m()\u001b[0m\n\u001b[1;32m    701\u001b[0m             \u001b[0;32mif\u001b[0m \u001b[0mhasattr\u001b[0m\u001b[0;34m(\u001b[0m\u001b[0mself\u001b[0m\u001b[0;34m.\u001b[0m\u001b[0mraw\u001b[0m\u001b[0;34m,\u001b[0m \u001b[0;34m'stream'\u001b[0m\u001b[0;34m)\u001b[0m\u001b[0;34m:\u001b[0m\u001b[0;34m\u001b[0m\u001b[0m\n\u001b[1;32m    702\u001b[0m                 \u001b[0;32mtry\u001b[0m\u001b[0;34m:\u001b[0m\u001b[0;34m\u001b[0m\u001b[0m\n\u001b[0;32m--> 703\u001b[0;31m                     \u001b[0;32mfor\u001b[0m \u001b[0mchunk\u001b[0m \u001b[0;32min\u001b[0m \u001b[0mself\u001b[0m\u001b[0;34m.\u001b[0m\u001b[0mraw\u001b[0m\u001b[0;34m.\u001b[0m\u001b[0mstream\u001b[0m\u001b[0;34m(\u001b[0m\u001b[0mchunk_size\u001b[0m\u001b[0;34m,\u001b[0m \u001b[0mdecode_content\u001b[0m\u001b[0;34m=\u001b[0m\u001b[0;32mTrue\u001b[0m\u001b[0;34m)\u001b[0m\u001b[0;34m:\u001b[0m\u001b[0;34m\u001b[0m\u001b[0m\n\u001b[0m\u001b[1;32m    704\u001b[0m                         \u001b[0;32myield\u001b[0m \u001b[0mchunk\u001b[0m\u001b[0;34m\u001b[0m\u001b[0m\n\u001b[1;32m    705\u001b[0m                 \u001b[0;32mexcept\u001b[0m \u001b[0mProtocolError\u001b[0m \u001b[0;32mas\u001b[0m \u001b[0me\u001b[0m\u001b[0;34m:\u001b[0m\u001b[0;34m\u001b[0m\u001b[0m\n",
      "\u001b[0;32m/home/javiergb/Programs/anaconda3/lib/python3.5/site-packages/requests/packages/urllib3/response.py\u001b[0m in \u001b[0;36mstream\u001b[0;34m(self, amt, decode_content)\u001b[0m\n\u001b[1;32m    430\u001b[0m         \u001b[0;32melse\u001b[0m\u001b[0;34m:\u001b[0m\u001b[0;34m\u001b[0m\u001b[0m\n\u001b[1;32m    431\u001b[0m             \u001b[0;32mwhile\u001b[0m \u001b[0;32mnot\u001b[0m \u001b[0mis_fp_closed\u001b[0m\u001b[0;34m(\u001b[0m\u001b[0mself\u001b[0m\u001b[0;34m.\u001b[0m\u001b[0m_fp\u001b[0m\u001b[0;34m)\u001b[0m\u001b[0;34m:\u001b[0m\u001b[0;34m\u001b[0m\u001b[0m\n\u001b[0;32m--> 432\u001b[0;31m                 \u001b[0mdata\u001b[0m \u001b[0;34m=\u001b[0m \u001b[0mself\u001b[0m\u001b[0;34m.\u001b[0m\u001b[0mread\u001b[0m\u001b[0;34m(\u001b[0m\u001b[0mamt\u001b[0m\u001b[0;34m=\u001b[0m\u001b[0mamt\u001b[0m\u001b[0;34m,\u001b[0m \u001b[0mdecode_content\u001b[0m\u001b[0;34m=\u001b[0m\u001b[0mdecode_content\u001b[0m\u001b[0;34m)\u001b[0m\u001b[0;34m\u001b[0m\u001b[0m\n\u001b[0m\u001b[1;32m    433\u001b[0m \u001b[0;34m\u001b[0m\u001b[0m\n\u001b[1;32m    434\u001b[0m                 \u001b[0;32mif\u001b[0m \u001b[0mdata\u001b[0m\u001b[0;34m:\u001b[0m\u001b[0;34m\u001b[0m\u001b[0m\n",
      "\u001b[0;32m/home/javiergb/Programs/anaconda3/lib/python3.5/site-packages/requests/packages/urllib3/response.py\u001b[0m in \u001b[0;36mread\u001b[0;34m(self, amt, decode_content, cache_content)\u001b[0m\n\u001b[1;32m    378\u001b[0m             \u001b[0;32melse\u001b[0m\u001b[0;34m:\u001b[0m\u001b[0;34m\u001b[0m\u001b[0m\n\u001b[1;32m    379\u001b[0m                 \u001b[0mcache_content\u001b[0m \u001b[0;34m=\u001b[0m \u001b[0;32mFalse\u001b[0m\u001b[0;34m\u001b[0m\u001b[0m\n\u001b[0;32m--> 380\u001b[0;31m                 \u001b[0mdata\u001b[0m \u001b[0;34m=\u001b[0m \u001b[0mself\u001b[0m\u001b[0;34m.\u001b[0m\u001b[0m_fp\u001b[0m\u001b[0;34m.\u001b[0m\u001b[0mread\u001b[0m\u001b[0;34m(\u001b[0m\u001b[0mamt\u001b[0m\u001b[0;34m)\u001b[0m\u001b[0;34m\u001b[0m\u001b[0m\n\u001b[0m\u001b[1;32m    381\u001b[0m                 \u001b[0;32mif\u001b[0m \u001b[0mamt\u001b[0m \u001b[0;34m!=\u001b[0m \u001b[0;36m0\u001b[0m \u001b[0;32mand\u001b[0m \u001b[0;32mnot\u001b[0m \u001b[0mdata\u001b[0m\u001b[0;34m:\u001b[0m  \u001b[0;31m# Platform-specific: Buggy versions of Python.\u001b[0m\u001b[0;34m\u001b[0m\u001b[0m\n\u001b[1;32m    382\u001b[0m                     \u001b[0;31m# Close the connection when no data is returned\u001b[0m\u001b[0;34m\u001b[0m\u001b[0;34m\u001b[0m\u001b[0m\n",
      "\u001b[0;32m/home/javiergb/Programs/anaconda3/lib/python3.5/http/client.py\u001b[0m in \u001b[0;36mread\u001b[0;34m(self, amt)\u001b[0m\n\u001b[1;32m    446\u001b[0m             \u001b[0;31m# Amount is given, implement using readinto\u001b[0m\u001b[0;34m\u001b[0m\u001b[0;34m\u001b[0m\u001b[0m\n\u001b[1;32m    447\u001b[0m             \u001b[0mb\u001b[0m \u001b[0;34m=\u001b[0m \u001b[0mbytearray\u001b[0m\u001b[0;34m(\u001b[0m\u001b[0mamt\u001b[0m\u001b[0;34m)\u001b[0m\u001b[0;34m\u001b[0m\u001b[0m\n\u001b[0;32m--> 448\u001b[0;31m             \u001b[0mn\u001b[0m \u001b[0;34m=\u001b[0m \u001b[0mself\u001b[0m\u001b[0;34m.\u001b[0m\u001b[0mreadinto\u001b[0m\u001b[0;34m(\u001b[0m\u001b[0mb\u001b[0m\u001b[0;34m)\u001b[0m\u001b[0;34m\u001b[0m\u001b[0m\n\u001b[0m\u001b[1;32m    449\u001b[0m             \u001b[0;32mreturn\u001b[0m \u001b[0mmemoryview\u001b[0m\u001b[0;34m(\u001b[0m\u001b[0mb\u001b[0m\u001b[0;34m)\u001b[0m\u001b[0;34m[\u001b[0m\u001b[0;34m:\u001b[0m\u001b[0mn\u001b[0m\u001b[0;34m]\u001b[0m\u001b[0;34m.\u001b[0m\u001b[0mtobytes\u001b[0m\u001b[0;34m(\u001b[0m\u001b[0;34m)\u001b[0m\u001b[0;34m\u001b[0m\u001b[0m\n\u001b[1;32m    450\u001b[0m         \u001b[0;32melse\u001b[0m\u001b[0;34m:\u001b[0m\u001b[0;34m\u001b[0m\u001b[0m\n",
      "\u001b[0;32m/home/javiergb/Programs/anaconda3/lib/python3.5/http/client.py\u001b[0m in \u001b[0;36mreadinto\u001b[0;34m(self, b)\u001b[0m\n\u001b[1;32m    486\u001b[0m         \u001b[0;31m# connection, and the user is reading more bytes than will be provided\u001b[0m\u001b[0;34m\u001b[0m\u001b[0;34m\u001b[0m\u001b[0m\n\u001b[1;32m    487\u001b[0m         \u001b[0;31m# (for example, reading in 1k chunks)\u001b[0m\u001b[0;34m\u001b[0m\u001b[0;34m\u001b[0m\u001b[0m\n\u001b[0;32m--> 488\u001b[0;31m         \u001b[0mn\u001b[0m \u001b[0;34m=\u001b[0m \u001b[0mself\u001b[0m\u001b[0;34m.\u001b[0m\u001b[0mfp\u001b[0m\u001b[0;34m.\u001b[0m\u001b[0mreadinto\u001b[0m\u001b[0;34m(\u001b[0m\u001b[0mb\u001b[0m\u001b[0;34m)\u001b[0m\u001b[0;34m\u001b[0m\u001b[0m\n\u001b[0m\u001b[1;32m    489\u001b[0m         \u001b[0;32mif\u001b[0m \u001b[0;32mnot\u001b[0m \u001b[0mn\u001b[0m \u001b[0;32mand\u001b[0m \u001b[0mb\u001b[0m\u001b[0;34m:\u001b[0m\u001b[0;34m\u001b[0m\u001b[0m\n\u001b[1;32m    490\u001b[0m             \u001b[0;31m# Ideally, we would raise IncompleteRead if the content-length\u001b[0m\u001b[0;34m\u001b[0m\u001b[0;34m\u001b[0m\u001b[0m\n",
      "\u001b[0;32m/home/javiergb/Programs/anaconda3/lib/python3.5/socket.py\u001b[0m in \u001b[0;36mreadinto\u001b[0;34m(self, b)\u001b[0m\n\u001b[1;32m    573\u001b[0m         \u001b[0;32mwhile\u001b[0m \u001b[0;32mTrue\u001b[0m\u001b[0;34m:\u001b[0m\u001b[0;34m\u001b[0m\u001b[0m\n\u001b[1;32m    574\u001b[0m             \u001b[0;32mtry\u001b[0m\u001b[0;34m:\u001b[0m\u001b[0;34m\u001b[0m\u001b[0m\n\u001b[0;32m--> 575\u001b[0;31m                 \u001b[0;32mreturn\u001b[0m \u001b[0mself\u001b[0m\u001b[0;34m.\u001b[0m\u001b[0m_sock\u001b[0m\u001b[0;34m.\u001b[0m\u001b[0mrecv_into\u001b[0m\u001b[0;34m(\u001b[0m\u001b[0mb\u001b[0m\u001b[0;34m)\u001b[0m\u001b[0;34m\u001b[0m\u001b[0m\n\u001b[0m\u001b[1;32m    576\u001b[0m             \u001b[0;32mexcept\u001b[0m \u001b[0mtimeout\u001b[0m\u001b[0;34m:\u001b[0m\u001b[0;34m\u001b[0m\u001b[0m\n\u001b[1;32m    577\u001b[0m                 \u001b[0mself\u001b[0m\u001b[0;34m.\u001b[0m\u001b[0m_timeout_occurred\u001b[0m \u001b[0;34m=\u001b[0m \u001b[0;32mTrue\u001b[0m\u001b[0;34m\u001b[0m\u001b[0m\n",
      "\u001b[0;31mKeyboardInterrupt\u001b[0m: "
     ]
    }
   ],
   "source": [
    "extractBooks()"
   ]
  },
  {
   "cell_type": "markdown",
   "metadata": {},
   "source": [
    "## 1.3 Scrapping easy websites\n",
    "- You request the website and get **html** back.\n",
    "- You need to find patterns to extract the data (not too hard, but takes a bit of time).\n",
    "- No limits usually. \n",
    "    - Try to behave, don't get confused with a DDoS attack.\n",
    "    - Check the terms of service of the website.\n",
    "    - I got UvA blocked from a site last year.\n",
    "- It can be automatized to run periodically: https://scrapy.org/\n",
    "\n",
    "\n",
    "- You can download files as well (urlrequest package)."
   ]
  },
  {
   "cell_type": "code",
   "execution_count": 125,
   "metadata": {
    "collapsed": false,
    "scrolled": true
   },
   "outputs": [],
   "source": [
    "from fake_useragent import UserAgent\n",
    "import json\n",
    "import re\n",
    "import bs4\n",
    "\n",
    "ua = UserAgent()\n",
    "\n",
    "def login():\n",
    "    \"\"\"\n",
    "    Use the api to log in\n",
    "    \"\"\"\n",
    "    res = requests.post('https://bookscouter.com/login.php', \n",
    "                        data = {'action': 'login','ref':'','email':'7320939@etlgr.com','pass':'wwcs'})\n",
    "    print(res.ok)\n",
    "    \n",
    "def get_price_bookscouter(ISBN):\n",
    "    \"\"\"\n",
    "    Request the website with random headers, extract the table\n",
    "    \"\"\"\n",
    "    #Get html\n",
    "    url = 'http://bookscouter.com/historic/'+ISBN\n",
    "    res = requests.get(url, headers={'User-Agent': '%s' %ua.random})\n",
    "    \n",
    "    #Check it's all good\n",
    "    if res.status_code != 200: \n",
    "        print(\"Error code {}\".format(es.status_code))\n",
    "        return \"\"\n",
    "\n",
    "    #Parse html\n",
    "    soup = bs4.BeautifulSoup(res.text)\n",
    "    \n",
    "    #Get table\n",
    "    prices = soup.find_all('td')\n",
    "    \n",
    "    #Return last price\n",
    "    if len(prices) > 0:\n",
    "        return float(prices[2].text.replace('$', ''))\n",
    "\n",
    "    else:\n",
    "        return None\n"
   ]
  },
  {
   "cell_type": "code",
   "execution_count": 126,
   "metadata": {
    "collapsed": false
   },
   "outputs": [
    {
     "name": "stdout",
     "output_type": "stream",
     "text": [
      "True\n"
     ]
    },
    {
     "data": {
      "text/plain": [
       "4.13"
      ]
     },
     "execution_count": 126,
     "metadata": {},
     "output_type": "execute_result"
    }
   ],
   "source": [
    "login() #use the hidden api to log in\n",
    "get_price_bookscouter(\"978-1491910290\") #get the book"
   ]
  },
  {
   "cell_type": "markdown",
   "metadata": {},
   "source": [
    "## 1.4 Behaving like a person (never a bad idea)\n",
    "- It's slow\n",
    "- It can handle javascript\n",
    "- You get **html** code back.\n",
    "- Behave.\n",
    "\n",
    "\n",
    "- Requirements (one):\n",
    "    - Firefox + geckodriver (https://github.com/mozilla/geckodriver/releases_\n",
    "    - Chrome + chromedriver\n",
    "    \n",
    "    \n",
    "    geckodriver/chromedriver must be execution permissions (chmod +x geckodriver)\n",
    "\n"
   ]
  },
  {
   "cell_type": "code",
   "execution_count": 91,
   "metadata": {
    "collapsed": false
   },
   "outputs": [],
   "source": [
    "import selenium.common.exceptions\n",
    "import selenium.webdriver\n",
    "import selenium.webdriver.common.desired_capabilities\n",
    "import selenium.webdriver.support.ui\n",
    "from selenium.webdriver.support import expected_conditions\n",
    "\n",
    "#Define a function to wait for an element to load\n",
    "def _wait_for_element(xpath, wait):\n",
    "    try:\n",
    "        polling_f = expected_conditions.presence_of_element_located((selenium.webdriver.common.by.By.XPATH, xpath))\n",
    "        elem = wait.until(polling_f)\n",
    "    except: \n",
    "        raise selenium.common.exceptions.TimeoutException(msg='XPath \"{}\" presence wait timeout.'.format(xpath))\n",
    "    return elem\n",
    "\n",
    "\n",
    "def _wait_for_element_click(xpath, wait):\n",
    "    try:\n",
    "        polling_f = expected_conditions.element_to_be_clickable((selenium.webdriver.common.by.By.XPATH, xpath))\n",
    "        elem = wait.until(polling_f)\n",
    "    except: \n",
    "        raise selenium.common.exceptions.TimeoutException(msg='XPath \"{}\" presence wait timeout.'.format(xpath))\n",
    "    return elem"
   ]
  },
  {
   "cell_type": "code",
   "execution_count": 92,
   "metadata": {
    "collapsed": false
   },
   "outputs": [],
   "source": [
    "#define short and long timeouts\n",
    "wait_timeouts=(30, 180)\n",
    "\n",
    "#open the driver (change the executable path to geckodriver_mac or geckodriver.exe)\n",
    "driver = selenium.webdriver.Firefox(executable_path=\"./geckodriver\")\n",
    "\n",
    "#define short and long waits (for the times you have to wait for the page to load)\n",
    "short_wait = selenium.webdriver.support.ui.WebDriverWait(driver, wait_timeouts[0], poll_frequency=0.05)\n",
    "long_wait = selenium.webdriver.support.ui.WebDriverWait(driver, wait_timeouts[1], poll_frequency=1)\n"
   ]
  },
  {
   "cell_type": "code",
   "execution_count": 93,
   "metadata": {
    "collapsed": false
   },
   "outputs": [],
   "source": [
    "#get a website\n",
    "driver.get(\"http://vds.issproxy.com/SearchPage.php?CustomerID=4372\")"
   ]
  },
  {
   "cell_type": "code",
   "execution_count": 94,
   "metadata": {
    "collapsed": false
   },
   "outputs": [],
   "source": [
    "#let's wait until we find the fund\n",
    "element = _wait_for_element('//*[@id=\"selFundID\"]',short_wait)"
   ]
  },
  {
   "cell_type": "code",
   "execution_count": 95,
   "metadata": {
    "collapsed": false,
    "scrolled": true
   },
   "outputs": [
    {
     "name": "stdout",
     "output_type": "stream",
     "text": [
      "Select a fund:\n",
      "CSTG&E International Social Core Equity Portfolio\n",
      "CSTG&E U.S. Social Core Equity 2 Portfolio\n",
      "DFA International Real Estate Securities Portfolio\n",
      "DFA International Small Cap Value Portfolio\n",
      "DFA International Value ex Tobacco Portfolio\n",
      "DFA Real Estate Securities Portfolio\n",
      "Dimensional Emerging Markets Value Fund\n",
      "Emerging Markets Core Equity Portfolio\n",
      "Emerging Markets Social Core Equity Portfolio\n",
      "International Core Equity Portfolio\n",
      "International Large Cap Growth Portfolio\n",
      "International Small Cap Growth Portfolio\n",
      "International Social Core Equity Portfolio\n",
      "International Sustainability Core 1 Portfolio\n",
      "International Vector Equity Portfolio\n",
      "Large Cap International Portfolio\n",
      "T.A. U.S. Core Equity 2 Portfolio\n",
      "T.A. World ex U.S. Core Equity Portfolio\n",
      "Tax-Managed DFA International Value Portfolio\n",
      "Tax-Managed U.S. Equity Portfolio\n",
      "Tax-Managed U.S. Small Cap Portfolio\n",
      "Tax-Managed U.S. Targeted Value Portfolio\n",
      "The Asia Pacific Small Company Series\n",
      "The Canadian Small Company Series\n",
      "The Continental Small Company Series\n",
      "The DFA International Value Series\n",
      "The Emerging Markets Series\n",
      "The Emerging Markets Small Cap Series\n",
      "The Japanese Small Company Series\n",
      "The Tax-Managed U.S. Marketwide Value Series\n",
      "The U.S. Large Cap Value Series\n",
      "The United Kingdom Small Company Series\n",
      "U.S. Core Equity 1 Portfolio\n",
      "U.S. Core Equity 2 Portfolio\n",
      "U.S. Large Cap Equity Portfolio\n",
      "U.S. Large Cap Growth Portfolio\n",
      "U.S. Large Company Portfolio\n",
      "U.S. Micro Cap Portfolio\n",
      "U.S. Small Cap Growth Portfolio\n",
      "U.S. Small Cap Portfolio\n",
      "U.S. Small Cap Value Portfolio\n",
      "U.S. Social Core Equity 2 Portfolio\n",
      "U.S. Sustainability Core 1 Portfolio\n",
      "U.S. Targeted Value Portfolio\n",
      "U.S. Vector Equity Portfolio\n",
      "VA International Small Portfolio\n",
      "VA International Value Portfolio\n",
      "VA U.S. Large Value Portfolio\n",
      "VA U.S. Targeted Value Portfolio\n",
      "World ex U.S. Core Equity Portfolio\n",
      "World ex U.S. Targeted Value Portfolio\n"
     ]
    }
   ],
   "source": [
    "#print the possible options\n",
    "for option in element.find_elements_by_xpath('//*[@id=\"selFundID\"]/option'):\n",
    "    print(option.text)"
   ]
  },
  {
   "cell_type": "code",
   "execution_count": 96,
   "metadata": {
    "collapsed": true
   },
   "outputs": [],
   "source": [
    "#keep the options\n",
    "options = element.find_elements_by_xpath('//*[@id=\"selFundID\"]/option')"
   ]
  },
  {
   "cell_type": "code",
   "execution_count": 97,
   "metadata": {
    "collapsed": false
   },
   "outputs": [],
   "source": [
    "#click on the first one\n",
    "options[1].click()"
   ]
  },
  {
   "cell_type": "code",
   "execution_count": 98,
   "metadata": {
    "collapsed": false
   },
   "outputs": [],
   "source": [
    "element.find_element_by_xpath('//*[@id=\"SPFundInputButton\"]').click()"
   ]
  },
  {
   "cell_type": "code",
   "execution_count": 101,
   "metadata": {
    "collapsed": true
   },
   "outputs": [],
   "source": [
    "companies = driver.find_elements_by_xpath('//*[@id=\"MPCompanyNameLink\"]')"
   ]
  },
  {
   "cell_type": "code",
   "execution_count": 102,
   "metadata": {
    "collapsed": false
   },
   "outputs": [
    {
     "data": {
      "text/plain": [
       "'ABB Ltd.'"
      ]
     },
     "execution_count": 102,
     "metadata": {},
     "output_type": "execute_result"
    }
   ],
   "source": [
    "companies[0].text"
   ]
  },
  {
   "cell_type": "code",
   "execution_count": 103,
   "metadata": {
    "collapsed": true
   },
   "outputs": [],
   "source": [
    "companies[0].click()"
   ]
  },
  {
   "cell_type": "code",
   "execution_count": 104,
   "metadata": {
    "collapsed": true
   },
   "outputs": [],
   "source": [
    "driver.back()"
   ]
  },
  {
   "cell_type": "code",
   "execution_count": 32,
   "metadata": {
    "collapsed": false
   },
   "outputs": [],
   "source": []
  },
  {
   "cell_type": "code",
   "execution_count": 90,
   "metadata": {
    "collapsed": false,
    "scrolled": true
   },
   "outputs": [
    {
     "name": "stdout",
     "output_type": "stream",
     "text": [
      "0 ABB Ltd.\n"
     ]
    },
    {
     "data": {
      "text/html": [
       "<div>\n",
       "<table border=\"1\" class=\"dataframe\">\n",
       "  <thead>\n",
       "    <tr>\n",
       "      <th></th>\n",
       "      <th>#</th>\n",
       "      <th>Proposal</th>\n",
       "      <th>Vote</th>\n",
       "    </tr>\n",
       "    <tr>\n",
       "      <th></th>\n",
       "      <th>Meeting for ADR Holders</th>\n",
       "      <th>Unnamed: 1_level_1</th>\n",
       "      <th>Unnamed: 2_level_1</th>\n",
       "    </tr>\n",
       "  </thead>\n",
       "  <tbody>\n",
       "    <tr>\n",
       "      <th>0</th>\n",
       "      <td>1.0</td>\n",
       "      <td>Accept Financial Statements and Statutory Reports</td>\n",
       "      <td>For</td>\n",
       "    </tr>\n",
       "    <tr>\n",
       "      <th>1</th>\n",
       "      <td>2.0</td>\n",
       "      <td>Approve Remuneration Report</td>\n",
       "      <td>For</td>\n",
       "    </tr>\n",
       "    <tr>\n",
       "      <th>2</th>\n",
       "      <td>3.0</td>\n",
       "      <td>Approve Discharge of Board and Senior Management</td>\n",
       "      <td>For</td>\n",
       "    </tr>\n",
       "    <tr>\n",
       "      <th>3</th>\n",
       "      <td>4.0</td>\n",
       "      <td>Approve Allocation of Income</td>\n",
       "      <td>For</td>\n",
       "    </tr>\n",
       "    <tr>\n",
       "      <th>4</th>\n",
       "      <td>5.0</td>\n",
       "      <td>Approve CHF 86 Million Reduction in Share Capi...</td>\n",
       "      <td>For</td>\n",
       "    </tr>\n",
       "  </tbody>\n",
       "</table>\n",
       "</div>"
      ],
      "text/plain": [
       "                        #                                           Proposal  \\\n",
       "  Meeting for ADR Holders                                 Unnamed: 1_level_1   \n",
       "0                     1.0  Accept Financial Statements and Statutory Reports   \n",
       "1                     2.0                        Approve Remuneration Report   \n",
       "2                     3.0   Approve Discharge of Board and Senior Management   \n",
       "3                     4.0                       Approve Allocation of Income   \n",
       "4                     5.0  Approve CHF 86 Million Reduction in Share Capi...   \n",
       "\n",
       "                Vote  \n",
       "  Unnamed: 2_level_1  \n",
       "0                For  \n",
       "1                For  \n",
       "2                For  \n",
       "3                For  \n",
       "4                For  "
      ]
     },
     "metadata": {},
     "output_type": "display_data"
    },
    {
     "name": "stdout",
     "output_type": "stream",
     "text": [
      "1 Agnico Eagle Mines Limited\n"
     ]
    },
    {
     "data": {
      "text/html": [
       "<div>\n",
       "<table border=\"1\" class=\"dataframe\">\n",
       "  <thead>\n",
       "    <tr>\n",
       "      <th></th>\n",
       "      <th>#</th>\n",
       "      <th>Proposal</th>\n",
       "      <th>Vote</th>\n",
       "    </tr>\n",
       "    <tr>\n",
       "      <th></th>\n",
       "      <th>Management proposals</th>\n",
       "      <th>Unnamed: 1_level_1</th>\n",
       "      <th>Unnamed: 2_level_1</th>\n",
       "    </tr>\n",
       "  </thead>\n",
       "  <tbody>\n",
       "    <tr>\n",
       "      <th>0</th>\n",
       "      <td>1.1</td>\n",
       "      <td>Elect Director Leanne M. Baker</td>\n",
       "      <td>For</td>\n",
       "    </tr>\n",
       "    <tr>\n",
       "      <th>1</th>\n",
       "      <td>1.2</td>\n",
       "      <td>Elect Director Sean Boyd</td>\n",
       "      <td>For</td>\n",
       "    </tr>\n",
       "    <tr>\n",
       "      <th>2</th>\n",
       "      <td>1.3</td>\n",
       "      <td>Elect Director Martine A. Celej</td>\n",
       "      <td>For</td>\n",
       "    </tr>\n",
       "    <tr>\n",
       "      <th>3</th>\n",
       "      <td>1.4</td>\n",
       "      <td>Elect Director Robert J. Gemmell</td>\n",
       "      <td>For</td>\n",
       "    </tr>\n",
       "    <tr>\n",
       "      <th>4</th>\n",
       "      <td>1.5</td>\n",
       "      <td>Elect Director Mel Leiderman</td>\n",
       "      <td>For</td>\n",
       "    </tr>\n",
       "  </tbody>\n",
       "</table>\n",
       "</div>"
      ],
      "text/plain": [
       "                     #                          Proposal               Vote\n",
       "  Management proposals                Unnamed: 1_level_1 Unnamed: 2_level_1\n",
       "0                  1.1    Elect Director Leanne M. Baker                For\n",
       "1                  1.2          Elect Director Sean Boyd                For\n",
       "2                  1.3   Elect Director Martine A. Celej                For\n",
       "3                  1.4  Elect Director Robert J. Gemmell                For\n",
       "4                  1.5      Elect Director Mel Leiderman                For"
      ]
     },
     "metadata": {},
     "output_type": "display_data"
    },
    {
     "name": "stdout",
     "output_type": "stream",
     "text": [
      "2 Agrium Inc.\n"
     ]
    },
    {
     "data": {
      "text/html": [
       "<div>\n",
       "<table border=\"1\" class=\"dataframe\">\n",
       "  <thead>\n",
       "    <tr>\n",
       "      <th></th>\n",
       "      <th>#</th>\n",
       "      <th>Proposal</th>\n",
       "      <th>Vote</th>\n",
       "    </tr>\n",
       "    <tr>\n",
       "      <th></th>\n",
       "      <th>Management proposals</th>\n",
       "      <th>Unnamed: 1_level_1</th>\n",
       "      <th>Unnamed: 2_level_1</th>\n",
       "    </tr>\n",
       "  </thead>\n",
       "  <tbody>\n",
       "    <tr>\n",
       "      <th>0</th>\n",
       "      <td>1.1</td>\n",
       "      <td>Elect Director Maura J. Clark</td>\n",
       "      <td>For</td>\n",
       "    </tr>\n",
       "    <tr>\n",
       "      <th>1</th>\n",
       "      <td>1.2</td>\n",
       "      <td>Elect Director David C. Everitt</td>\n",
       "      <td>Withhold</td>\n",
       "    </tr>\n",
       "    <tr>\n",
       "      <th>2</th>\n",
       "      <td>1.3</td>\n",
       "      <td>Elect Director Russell K. Girling</td>\n",
       "      <td>For</td>\n",
       "    </tr>\n",
       "    <tr>\n",
       "      <th>3</th>\n",
       "      <td>1.4</td>\n",
       "      <td>Elect Director Russell J. Horner</td>\n",
       "      <td>For</td>\n",
       "    </tr>\n",
       "    <tr>\n",
       "      <th>4</th>\n",
       "      <td>1.5</td>\n",
       "      <td>Elect Director Miranda C. Hubbs</td>\n",
       "      <td>For</td>\n",
       "    </tr>\n",
       "  </tbody>\n",
       "</table>\n",
       "</div>"
      ],
      "text/plain": [
       "                     #                           Proposal               Vote\n",
       "  Management proposals                 Unnamed: 1_level_1 Unnamed: 2_level_1\n",
       "0                  1.1      Elect Director Maura J. Clark                For\n",
       "1                  1.2    Elect Director David C. Everitt           Withhold\n",
       "2                  1.3  Elect Director Russell K. Girling                For\n",
       "3                  1.4   Elect Director Russell J. Horner                For\n",
       "4                  1.5    Elect Director Miranda C. Hubbs                For"
      ]
     },
     "metadata": {},
     "output_type": "display_data"
    },
    {
     "name": "stdout",
     "output_type": "stream",
     "text": [
      "3 Agrium Inc.\n"
     ]
    },
    {
     "data": {
      "text/html": [
       "<div>\n",
       "<table border=\"1\" class=\"dataframe\">\n",
       "  <thead>\n",
       "    <tr>\n",
       "      <th></th>\n",
       "      <th>#</th>\n",
       "      <th>Proposal</th>\n",
       "      <th>Vote</th>\n",
       "    </tr>\n",
       "    <tr>\n",
       "      <th></th>\n",
       "      <th>Management proposals</th>\n",
       "      <th>Unnamed: 1_level_1</th>\n",
       "      <th>Unnamed: 2_level_1</th>\n",
       "    </tr>\n",
       "  </thead>\n",
       "  <tbody>\n",
       "    <tr>\n",
       "      <th>0</th>\n",
       "      <td>1</td>\n",
       "      <td>Approve Merger Agreement with Potash Corporati...</td>\n",
       "      <td>For</td>\n",
       "    </tr>\n",
       "  </tbody>\n",
       "</table>\n",
       "</div>"
      ],
      "text/plain": [
       "                     #                                           Proposal  \\\n",
       "  Management proposals                                 Unnamed: 1_level_1   \n",
       "0                    1  Approve Merger Agreement with Potash Corporati...   \n",
       "\n",
       "                Vote  \n",
       "  Unnamed: 2_level_1  \n",
       "0                For  "
      ]
     },
     "metadata": {},
     "output_type": "display_data"
    },
    {
     "ename": "KeyboardInterrupt",
     "evalue": "",
     "output_type": "error",
     "traceback": [
      "\u001b[0;31m---------------------------------------------------------------------------\u001b[0m",
      "\u001b[0;31mKeyboardInterrupt\u001b[0m                         Traceback (most recent call last)",
      "\u001b[0;32m<ipython-input-90-40993bdfe3a8>\u001b[0m in \u001b[0;36m<module>\u001b[0;34m()\u001b[0m\n\u001b[1;32m     51\u001b[0m \u001b[0;34m\u001b[0m\u001b[0m\n\u001b[1;32m     52\u001b[0m     \u001b[0;31m#Be nice\u001b[0m\u001b[0;34m\u001b[0m\u001b[0;34m\u001b[0m\u001b[0m\n\u001b[0;32m---> 53\u001b[0;31m     \u001b[0mtime\u001b[0m\u001b[0;34m.\u001b[0m\u001b[0msleep\u001b[0m\u001b[0;34m(\u001b[0m\u001b[0;36m2\u001b[0m\u001b[0;34m)\u001b[0m\u001b[0;34m\u001b[0m\u001b[0m\n\u001b[0m",
      "\u001b[0;31mKeyboardInterrupt\u001b[0m: "
     ]
    }
   ],
   "source": [
    "#Just to show the kind of data \n",
    "import pandas as pd\n",
    "\n",
    "#define short and long timeouts\n",
    "wait_timeouts=(2, 180)\n",
    "\n",
    "#open the driver (change the executable path to geckodriver_mac or geckodriver.exe)\n",
    "driver = selenium.webdriver.Firefox(executable_path=\"./geckodriver\")\n",
    "\n",
    "#define short and long waits (for the times you have to wait for the page to load)\n",
    "short_wait = selenium.webdriver.support.ui.WebDriverWait(driver, wait_timeouts[0], poll_frequency=0.05)\n",
    "long_wait = selenium.webdriver.support.ui.WebDriverWait(driver, wait_timeouts[1], poll_frequency=1)\n",
    "\n",
    "\n",
    "#get a website\n",
    "driver.get(\"http://vds.issproxy.com/SearchPage.php?CustomerID=4372\")\n",
    "\n",
    "#let's wait until we find the fund\n",
    "element = _wait_for_element('//*[@id=\"selFundID\"]',short_wait)\n",
    "\n",
    "#keep the options\n",
    "options = element.find_elements_by_xpath('//*[@id=\"selFundID\"]/option')\n",
    "\n",
    "#click on the second one\n",
    "options[1].click()\n",
    "element.find_element_by_xpath('//*[@id=\"SPFundInputButton\"]').click()\n",
    "\n",
    "_wait_for_element('//*[@id=\"MPCompanyNameLink\"]',short_wait)\n",
    "companies = driver.find_elements_by_xpath('//*[@id=\"MPCompanyNameLink\"]')\n",
    "\n",
    "#For each company\n",
    "for i in range(len(companies)):\n",
    "    #Find the companies (otherwise it's lost while refreshing the page)\n",
    "    _wait_for_element('//*[@id=\"MPCompanyNameLink\"]',short_wait)\n",
    "    companies = driver.find_elements_by_xpath('//*[@id=\"MPCompanyNameLink\"]')\n",
    "\n",
    "    \n",
    "    #Click on a company and print the name\n",
    "    comp = companies[i]\n",
    "    print(i,comp.text)\n",
    "    time.sleep(2)\n",
    "    comp.click()\n",
    "    \n",
    "    #let's wait until we find the the table, read it and display the header\n",
    "    html = _wait_for_element('//*[@id=\"VPOuterContainer\"]',short_wait).get_attribute('innerHTML')\n",
    "    display(pd.read_html(html,header=[0,1])[0].head())\n",
    "    \n",
    "    #Go back to the previous screen\n",
    "    driver.back()\n",
    "    "
   ]
  },
  {
   "cell_type": "code",
   "execution_count": 89,
   "metadata": {
    "collapsed": false
   },
   "outputs": [
    {
     "data": {
      "text/plain": [
       "'ABB Ltd.'"
      ]
     },
     "execution_count": 89,
     "metadata": {},
     "output_type": "execute_result"
    }
   ],
   "source": [
    "companies.text"
   ]
  },
  {
   "cell_type": "markdown",
   "metadata": {},
   "source": [
    "- Move between windows\n",
    "- Find by attributes (like in beautifulsoup)\n",
    "- Run javascript or ask for javascript variables\n"
   ]
  }
 ],
 "metadata": {
  "anaconda-cloud": {},
  "kernelspec": {
   "display_name": "Python [conda root]",
   "language": "python",
   "name": "conda-root-py"
  },
  "language_info": {
   "codemirror_mode": {
    "name": "ipython",
    "version": 3
   },
   "file_extension": ".py",
   "mimetype": "text/x-python",
   "name": "python",
   "nbconvert_exporter": "python",
   "pygments_lexer": "ipython3",
   "version": "3.5.2"
  }
 },
 "nbformat": 4,
 "nbformat_minor": 1
}
